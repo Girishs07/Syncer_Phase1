{
 "cells": [
  {
   "cell_type": "code",
   "execution_count": 1,
   "id": "cb1624bc-2cb4-400d-9878-cef7b6d9424d",
   "metadata": {
    "scrolled": true
   },
   "outputs": [
    {
     "name": "stdin",
     "output_type": "stream",
     "text": [
      "Enter the salary amount: 50000\n",
      "Enter the freelancing amount: 25000\n",
      "Enter the tips amount: 500\n"
     ]
    },
    {
     "name": "stdout",
     "output_type": "stream",
     "text": [
      "{'Salary': 50000, 'Freelance': 25000, 'Tips': 500}\n"
     ]
    }
   ],
   "source": [
    "Salary=int(input(\"Enter the salary amount:\"))\n",
    "Freelance=int(input(\"Enter the freelancing amount:\"))\n",
    "Tips=int(input(\"Enter the tips amount:\"))\n",
    "\n",
    "Income={'Salary':Salary,'Freelance':Freelance,'Tips':Tips}\n",
    "print(Income)"
   ]
  },
  {
   "cell_type": "code",
   "execution_count": 2,
   "id": "701b6939-71c1-479c-859a-9cc882bc4467",
   "metadata": {},
   "outputs": [
    {
     "name": "stdin",
     "output_type": "stream",
     "text": [
      "Enter the rent amount: 5000\n",
      "Enter the food Expenditure: 6000\n",
      "Enter the transport amount: 3000\n"
     ]
    },
    {
     "name": "stdout",
     "output_type": "stream",
     "text": [
      "{'rent': 5000, 'food': 6000, 'transport': 3000}\n"
     ]
    }
   ],
   "source": [
    "Rent=int(input(\"Enter the rent amount:\"))\n",
    "Food=int(input(\"Enter the food Expenditure:\"))\n",
    "Transport=int(input(\"Enter the transport amount:\"))\n",
    "\n",
    "Expence={'rent':Rent,'food':Food,'transport':Transport}\n",
    "print(Expence)"
   ]
  },
  {
   "cell_type": "code",
   "execution_count": 3,
   "id": "8784cdb1-bc27-4e05-b5f3-0b20a9790561",
   "metadata": {},
   "outputs": [],
   "source": [
    "Total_Income=sum(Income.values())\n",
    "Total_Expenditure=sum(Expence.values())"
   ]
  },
  {
   "cell_type": "code",
   "execution_count": 4,
   "id": "b1f04072-aff8-4774-96a0-9fa80d89b318",
   "metadata": {},
   "outputs": [],
   "source": [
    "total_income={'total_income':Total_Income}\n",
    "total_expence={'total_expence':Total_Expenditure}\n",
    "sub=Total_Income - Total_Expenditure\n",
    "balance={'Balance':sub}"
   ]
  },
  {
   "cell_type": "code",
   "execution_count": 5,
   "id": "3ad2ef10-16da-46eb-bfbb-c1387fea0b50",
   "metadata": {},
   "outputs": [
    {
     "name": "stdout",
     "output_type": "stream",
     "text": [
      "{'total_income': 75500}\n",
      "{'total_expence': 14000}\n",
      "{'Balance': 61500}\n"
     ]
    }
   ],
   "source": [
    "print(total_income)\n",
    "print(total_expence)\n",
    "print(balance)"
   ]
  },
  {
   "cell_type": "code",
   "execution_count": 6,
   "id": "f48ecad1-f885-478a-9adc-4d83893ff91a",
   "metadata": {},
   "outputs": [
    {
     "name": "stdout",
     "output_type": "stream",
     "text": [
      "{'Income': 75500, 'Expence': 14000, 'balance': 61500}\n"
     ]
    }
   ],
   "source": [
    "Over_all_Spending={'Income':Total_Income,'Expence':Total_Expenditure,'balance':sub}\n",
    "print(Over_all_Spending)"
   ]
  }
 ],
 "metadata": {
  "kernelspec": {
   "display_name": "Python 3 (ipykernel)",
   "language": "python",
   "name": "python3"
  },
  "language_info": {
   "codemirror_mode": {
    "name": "ipython",
    "version": 3
   },
   "file_extension": ".py",
   "mimetype": "text/x-python",
   "name": "python",
   "nbconvert_exporter": "python",
   "pygments_lexer": "ipython3",
   "version": "3.12.7"
  }
 },
 "nbformat": 4,
 "nbformat_minor": 5
}
