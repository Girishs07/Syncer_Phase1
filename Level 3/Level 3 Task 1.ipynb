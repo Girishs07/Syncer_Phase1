{
 "cells": [
  {
   "cell_type": "code",
   "execution_count": 1,
   "id": "68dcf288-b58d-4a68-8e3b-96cd0bd6133a",
   "metadata": {},
   "outputs": [
    {
     "name": "stdin",
     "output_type": "stream",
     "text": [
      "enter the numerator: 10\n",
      "Enter The denominator: 0\n"
     ]
    },
    {
     "name": "stdout",
     "output_type": "stream",
     "text": [
      "error:It is not posible to divide any number by zero bcz it gives nothing\n",
      "Successfully code executed\n"
     ]
    }
   ],
   "source": [
    "try:\n",
    "    numerator=int(input(\"enter the numerator:\"))\n",
    "    denominator=int(input(\"Enter The denominator:\"))\n",
    "\n",
    "    result=numerator/denominator\n",
    "    print(\"Result:\",result)\n",
    "\n",
    "except ZeroDivisionError:\n",
    "    print(\"error:It is not posible to divide any number by zero bcz it gives nothing\")\n",
    "\n",
    "except ValueError:\n",
    "    print(\"error:Given number is not valid enter any valid numbers to process the code\")\n",
    "\n",
    "finally:\n",
    "    print(\"Successfully code executed\")\n",
    "\n"
   ]
  }
 ],
 "metadata": {
  "kernelspec": {
   "display_name": "Python 3 (ipykernel)",
   "language": "python",
   "name": "python3"
  },
  "language_info": {
   "codemirror_mode": {
    "name": "ipython",
    "version": 3
   },
   "file_extension": ".py",
   "mimetype": "text/x-python",
   "name": "python",
   "nbconvert_exporter": "python",
   "pygments_lexer": "ipython3",
   "version": "3.12.7"
  }
 },
 "nbformat": 4,
 "nbformat_minor": 5
}
