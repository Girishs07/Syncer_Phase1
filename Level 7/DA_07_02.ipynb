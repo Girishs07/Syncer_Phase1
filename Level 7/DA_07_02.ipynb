{
 "cells": [
  {
   "cell_type": "code",
   "execution_count": 1,
   "id": "69a85196-0740-45ff-988c-38c2441cd2d9",
   "metadata": {},
   "outputs": [],
   "source": [
    "import numpy as np\n",
    "import statsmodels.stats.weightstats as st"
   ]
  },
  {
   "cell_type": "code",
   "execution_count": 2,
   "id": "2c3fc21a-702b-43f6-91e2-319ab1442267",
   "metadata": {},
   "outputs": [],
   "source": [
    "#given inputs \n",
    "mean_traditional = 75  \n",
    "std_traditional = 10   \n",
    "n_traditional = 40     \n",
    "\n",
    "mean_new = 82 \n",
    "std_new = 12  \n",
    "n_new = 35    \n",
    "\n",
    "alpha = 0.05 "
   ]
  },
  {
   "cell_type": "code",
   "execution_count": 3,
   "id": "cda03747-37d1-4725-8427-f77ed283a980",
   "metadata": {},
   "outputs": [],
   "source": [
    "np.random.seed(42)\n",
    "traditional_scores = np.random.normal(mean_traditional, std_traditional, n_traditional)\n",
    "new_method_scores = np.random.normal(mean_new, std_new, n_new)"
   ]
  },
  {
   "cell_type": "code",
   "execution_count": 4,
   "id": "f7800f84-6ccb-4e73-a1c9-8fdeba250f45",
   "metadata": {},
   "outputs": [],
   "source": [
    "z_stat, p_value = st.ztest(new_method_scores, traditional_scores, alternative='larger')\n",
    "\n",
    "if p_value < alpha:\n",
    "    result = \"if the p_value is Lesser than alpha.\"\n",
    "else:\n",
    "    result = \"otherwise it is likely increasing.\""
   ]
  },
  {
   "cell_type": "code",
   "execution_count": 5,
   "id": "d451f6a4-dda9-41e0-a676-e1febd570eb1",
   "metadata": {},
   "outputs": [
    {
     "name": "stdout",
     "output_type": "stream",
     "text": [
      "Z-score: 3.79\n",
      "P-value: 0.00008\n",
      "if the p_value is Lesser than alpha.\n"
     ]
    }
   ],
   "source": [
    "print(f\"Z-score: {z_stat:.2f}\")\n",
    "print(f\"P-value: {p_value:.5f}\")\n",
    "print(result)"
   ]
  }
 ],
 "metadata": {
  "kernelspec": {
   "display_name": "Python 3 (ipykernel)",
   "language": "python",
   "name": "python3"
  },
  "language_info": {
   "codemirror_mode": {
    "name": "ipython",
    "version": 3
   },
   "file_extension": ".py",
   "mimetype": "text/x-python",
   "name": "python",
   "nbconvert_exporter": "python",
   "pygments_lexer": "ipython3",
   "version": "3.12.7"
  }
 },
 "nbformat": 4,
 "nbformat_minor": 5
}
